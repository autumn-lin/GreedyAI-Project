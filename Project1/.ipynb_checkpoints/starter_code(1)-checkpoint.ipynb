{
 "cells": [
  {
   "cell_type": "markdown",
   "metadata": {},
   "source": [
    "## 注意(attention)！开始做前必读项！\n",
    "\n",
    "- 所有的代码一定要在这个文件里面编写，不要自己创建一个新的文件\n",
    "- 对于提供的数据集，不要改存储地方，也不要修改文件名和内容\n",
    "- 确保到时候git pull之后我们可以直接运行这个 starter_code文件\n",
    "- 不要重新定义函数（如果我们已经定义好的），按照里面的思路来编写。当然，除了我们定义的部分，如有需要可以自行定义函数或者模块\n",
    "- 写完之后，重新看一下哪一部分比较慢，然后试图去优化。一个好的习惯是每写一部分就思考这部分代码的时间复杂度和空间复杂度，AI工程是的日常习惯！\n",
    "- 第一次作业很重要，一定要完成！ 相信会有很多的收获！"
   ]
  },
  {
   "cell_type": "markdown",
   "metadata": {},
   "source": [
    "## Part 1: 搭建一个分词工具\n",
    "\n",
    "### Part 1.1  基于枚举方法来搭建中文分词工具\n",
    "\n",
    "此项目需要的数据：\n",
    "1. 综合类中文词库.xlsx： 包含了中文词，当做词典来用\n",
    "2. 以变量的方式提供了部分unigram概率 word_prob\n",
    "\n",
    "\n",
    "举个例子： 给定词典=[我们 学习 人工 智能 人工智能 未来 是]， 另外我们给定unigram概率：p(我们)=0.25, p(学习)=0.15, p(人工)=0.05, p(智能)=0.1, p(人工智能)=0.2, p(未来)=0.1, p(是)=0.15\n",
    "\n",
    "#### Step 1: 对于给定字符串：”我们学习人工智能，人工智能是未来“, 找出所有可能的分割方式\n",
    "- [我们，学习，人工智能，人工智能，是，未来]\n",
    "- [我们，学习，人工，智能，人工智能，是，未来]\n",
    "- [我们，学习，人工，智能，人工，智能，是，未来]\n",
    "- [我们，学习，人工智能，人工，智能，是，未来]\n",
    ".......\n",
    "\n",
    "\n",
    "#### Step 2: 我们也可以计算出每一个切分之后句子的概率\n",
    "- p(我们，学习，人工智能，人工智能，是，未来)= -log p(我们)-log p(学习)-log p(人工智能)-log p(人工智能)-log p(是)-log p(未来)\n",
    "- p(我们，学习，人工，智能，人工智能，是，未来)=-log p(我们)-log p(学习)-log p(人工)-log p(智能)-log p(人工智能)-log p(是)-log p(未来)\n",
    "- p(我们，学习，人工，智能，人工，智能，是，未来)=-log p(我们)-log p(学习)-log p(人工)-log p(智能)-log p(人工)-log p(智能)-log p(是)-log p(未来)\n",
    "- p(我们，学习，人工智能，人工，智能，是，未来)=-log p(我们)-log p(学习)-log p(人工智能)-log p(人工)-log p(智能)-log(是)-log p(未来)\n",
    ".....\n",
    "\n",
    "#### Step 3: 返回第二步中概率最大的结果"
   ]
  },
  {
   "cell_type": "code",
   "execution_count": 1,
   "metadata": {},
   "outputs": [
    {
     "name": "stdout",
     "output_type": "stream",
     "text": [
      "298032\n",
      "16\n",
      "1.0000000000000002\n"
     ]
    }
   ],
   "source": [
    "# TODO: 第一步： 从dic.txt中读取所有中文词。\n",
    "#  hint: 思考一下用什么数据结构来存储这个词典会比较好？ 要考虑我们每次查询一个单词的效率。\n",
    "\n",
    "import xlrd\n",
    "\n",
    "def create_dic(file_path,sheet_index=0, col_index=0):\n",
    "    temp = xlrd.open_workbook(file_path)\n",
    "    table = temp.sheets()[sheet_index]\n",
    "    col_values = table.col_values(col_index)\n",
    "\n",
    "    max_len_word = 0\n",
    "    dic_words = {}   # 保存词典库中读取的单词\n",
    "    for word in col_values:\n",
    "        dic_words[word] = 0.00001\n",
    "        len_word = len(word)\n",
    "        if len_word > max_len_word:\n",
    "            max_len_word = len_word\n",
    "\n",
    "    print(len(dic_words))\n",
    "    print(max_len_word)\n",
    "    return dic_words, max_len_word  \n",
    "\n",
    "dic_words, max_len_word = create_dic(file_path = './data/综合类中文词库.xlsx')\n",
    "# 以下是每一个单词出现的概率。为了问题的简化，我们只列出了一小部分单词的概率。 在这里没有出现的的单词但是出现在词典里的，统一把概率设置成为0.00001\n",
    "# 比如 p(\"学院\")=p(\"概率\")=...0.00001\n",
    "\n",
    "word_prob = {\"北京\":0.03,\"的\":0.08,\"天\":0.005,\"气\":0.005,\"天气\":0.06,\"真\":0.04,\"好\":0.05,\"真好\":0.04,\"啊\":0.01,\"真好啊\":0.02, \n",
    "             \"今\":0.01,\"今天\":0.07,\"课程\":0.06,\"内容\":0.06,\"有\":0.05,\"很\":0.03,\"很有\":0.04,\"意思\":0.06,\"有意思\":0.005,\"课\":0.01,\n",
    "             \"程\":0.005,\"经常\":0.08,\"意见\":0.08,\"意\":0.01,\"见\":0.005,\"有意见\":0.02,\"分歧\":0.04,\"分\":0.02, \"歧\":0.005}\n",
    "\n",
    "for key, values in word_prob.items():\n",
    "    dic_words[key] = values\n",
    "\n",
    "print (sum(word_prob.values()))"
   ]
  },
  {
   "cell_type": "code",
   "execution_count": 47,
   "metadata": {},
   "outputs": [],
   "source": [
    "#  分数（10）\n",
    "## TODO 请编写word_segment_naive函数来实现对输入字符串的分词\n",
    "import numpy as np\n",
    "\n",
    "def segment_recur(input_str):\n",
    "    \n",
    "    segments = []\n",
    "    len_input_str = len(input_str)\n",
    "\n",
    "    if len_input_str == 0:\n",
    "        return segments\n",
    "    \n",
    "    \n",
    "    max_spilt = min(len_input_str, max_len_word) + 1\n",
    "    for idx in range(1, max_spilt):\n",
    "        \n",
    "        word = input_str[0 : idx]\n",
    "        \n",
    "        if word in dic_words:\n",
    "            segments_substr = segment_recur(input_str[idx : ])\n",
    "            \n",
    "            if (len(segments_substr) == 0) & (len(input_str[idx : ]) == 0):\n",
    "                segments.append([word])\n",
    "            else:\n",
    "                for seg in segments_substr:\n",
    "                    seg = [word] + seg\n",
    "                    segments.append(seg)\n",
    "    \n",
    "    return  segments\n",
    "\n",
    "EPSILON = 1e-10\n",
    "\n",
    "def word_segment_naive(input_str):\n",
    "    \"\"\"\n",
    "    1. 对于输入字符串做分词，并返回所有可行的分词之后的结果。\n",
    "    2. 针对于每一个返回结果，计算句子的概率\n",
    "    3. 返回概率最高的最作为最后结果\n",
    "    \n",
    "    input_str: 输入字符串   输入格式：“今天天气好”\n",
    "    best_segment: 最好的分词结果  输出格式：[\"今天\"，\"天气\"，\"好\"]\n",
    "    \"\"\"\n",
    "    \n",
    "    # TODO： 第一步： 计算所有可能的分词结果，要保证每个分完的词存在于词典里，这个结果有可能会非常多。 \n",
    "    segments = []  # 存储所有分词的结果。如果次字符串不可能被完全切分，则返回空列表(list)\n",
    "                   # 格式为：segments = [[\"今天\"，“天气”，“好”],[\"今天\"，“天“，”气”，“好”],[\"今“，”天\"，“天气”，“好”],...]\n",
    "    \n",
    "    segments = segment_recur(input_str)\n",
    "    \n",
    "    # TODO: 第二步：循环所有的分词结果，并计算出概率最高的分词结果，并返回\n",
    "    best_segment = []\n",
    "    best_score = np.inf\n",
    "    for seg in segments:\n",
    "        # TODO ...\n",
    "        log_prob = -1 * np.sum(np.log([dic_words[word] + EPSILON for word in seg]))\n",
    "        \n",
    "        if log_prob < best_score:\n",
    "            best_score = log_prob\n",
    "            best_segment = seg\n",
    "    \n",
    "    return best_segment      "
   ]
  },
  {
   "cell_type": "code",
   "execution_count": 48,
   "metadata": {},
   "outputs": [
    {
     "name": "stdout",
     "output_type": "stream",
     "text": [
      "['北京', '的', '天气', '真好啊']\n",
      "['今天', '的', '课程', '内容', '很有', '意思']\n",
      "['经常', '有意见', '分歧']\n"
     ]
    }
   ],
   "source": [
    "# 测试\n",
    "print (word_segment_naive(\"北京的天气真好啊\"))\n",
    "print (word_segment_naive(\"今天的课程内容很有意思\"))\n",
    "print (word_segment_naive(\"经常有意见分歧\"))"
   ]
  },
  {
   "cell_type": "markdown",
   "metadata": {},
   "source": [
    "### Part 1.2  基于维特比算法来优化上述流程\n",
    "\n",
    "此项目需要的数据：\n",
    "1. 综合类中文词库.xlsx： 包含了中文词，当做词典来用\n",
    "2. 以变量的方式提供了部分unigram概率word_prob\n",
    "\n",
    "\n",
    "举个例子： 给定词典=[我们 学习 人工 智能 人工智能 未来 是]， 另外我们给定unigram概率：p(我们)=0.25, p(学习)=0.15, p(人工)=0.05, p(智能)=0.1, p(人工智能)=0.2, p(未来)=0.1, p(是)=0.15\n",
    "\n",
    "#### Step 1: 根据词典，输入的句子和 word_prob来创建带权重的有向图（Directed Graph） 参考：课程内容\n",
    "有向图的每一条边是一个单词的概率（只要存在于词典里的都可以作为一个合法的单词），这些概率已经给出（存放在word_prob）。\n",
    "注意：思考用什么方式来存储这种有向图比较合适？ 不一定只有一种方式来存储这种结构。 \n",
    "\n",
    "#### Step 2: 编写维特比算法（viterebi）算法来找出其中最好的PATH， 也就是最好的句子切分\n",
    "具体算法参考课程中讲过的内容\n",
    "\n",
    "#### Step 3: 返回结果\n",
    "跟PART 1.1的要求一致"
   ]
  },
  {
   "cell_type": "code",
   "execution_count": 70,
   "metadata": {},
   "outputs": [
    {
     "data": {
      "text/plain": [
       "['今天', '天气', '好']"
      ]
     },
     "execution_count": 70,
     "metadata": {},
     "output_type": "execute_result"
    }
   ],
   "source": [
    "# 分数（10）\n",
    "import pandas as pd \n",
    "\n",
    "def create_graph(input_str):\n",
    "\n",
    "    list_input = list(input_str) \n",
    "    num_list_input = len(list_input)\n",
    "    \n",
    "    word_list = []\n",
    "    edge_list = []\n",
    "    for idx_start in range(num_list_input):\n",
    "        max_spilt = min(len(input_str[idx_start : ]), max_len_word) + 1\n",
    "        for idx_end in range(1, max_spilt):\n",
    "            idx_end += idx_start\n",
    "            word = input_str[idx_start : idx_end]\n",
    "            if word in dic_words:\n",
    "                word_list.append(word)\n",
    "                edge_list.append([idx_start, idx_end])\n",
    "    \n",
    "    graph = pd.DataFrame(\n",
    "        data=np.zeros(shape=(num_list_input, num_list_input)),\n",
    "        index=list(range(num_list_input)),\n",
    "        columns=list(range(1, num_list_input + 1))\n",
    "    )\n",
    "    \n",
    "    for idx, edge in enumerate(edge_list):\n",
    "        word = word_list[idx]\n",
    "        graph.loc[edge[0], edge[1]] = dic_words[word]\n",
    "    graph = -1 * np.log(graph + EPSILON)\n",
    "    \n",
    "    return graph\n",
    "    \n",
    "\n",
    "## TODO 请编写word_segment_viterbi函数来实现对输入字符串的分词\n",
    "def word_segment_viterbi(input_str):\n",
    "    \"\"\"\n",
    "    1. 基于输入字符串，词典，以及给定的unigram概率来创建DAG(有向图）。\n",
    "    2. 编写维特比算法来寻找最优的PATH\n",
    "    3. 返回分词结果\n",
    "    \n",
    "    input_str: 输入字符串   输入格式：“今天天气好”\n",
    "    best_segment: 最好的分词结果  输出格式：[\"今天\"，\"天气\"，\"好\"]\n",
    "    \"\"\"\n",
    "    \n",
    "    # TODO: 第一步：根据词典，输入的句子，以及给定的unigram概率来创建带权重的有向图（Directed Graph） 参考：课程内容\n",
    "    #      有向图的每一条边是一个单词的概率（只要存在于词典里的都可以作为一个合法的单词），这些概率在 word_prob，如果不在word_prob里的单词但在\n",
    "    #      词典里存在的，统一用概率值0.00001。\n",
    "    #      注意：思考用什么方式来存储这种有向图比较合适？ 不一定有只有一种方式来存储这种结构。 \n",
    "    graph = create_graph(input_str)\n",
    "    \n",
    "    \n",
    "    # TODO： 第二步： 利用维特比算法来找出最好的PATH， 这个PATH是P(sentence)最大或者 -log P(sentence)最小的PATH。\n",
    "    #              hint: 思考为什么不用相乘: p(w1)p(w2)...而是使用negative log sum:  -log(w1)-log(w2)-...\n",
    "    num_chars = len(input_str)\n",
    "    \n",
    "    optimal_path_distance = pd.Series(\n",
    "        data = np.zeros(shape = (num_chars + 1), ),\n",
    "        index = list(range(num_chars + 1))\n",
    "    )\n",
    "    \n",
    "    optimal_path = pd.Series(\n",
    "        data = np.zeros(shape = (num_chars + 1), dtype=np.int),\n",
    "        index = list(range(num_chars + 1))\n",
    "    )\n",
    "    \n",
    "    for idx_end in range(1, num_chars + 1):\n",
    "        possible_path_distance = np.zeros(shape=(idx_end, ))\n",
    "        for idx_start in range(idx_end):\n",
    "            possible_path_distance[idx_start] = \\\n",
    "                optimal_path_distance[idx_start] + graph.loc[idx_start, idx_end]\n",
    "            \n",
    "            optimal_path_distance[idx_end] = np.min(possible_path_distance)\n",
    "            optimal_path[idx_end] = np.argmin(possible_path_distance)\n",
    "    \n",
    "    # TODO: 第三步： 根据最好的PATH, 返回最好的切分\n",
    "    best_segment = []\n",
    "    idx = num_chars\n",
    "\n",
    "\n",
    "    while idx > 0:\n",
    "        best_segment.append(input_str[optimal_path[idx]: idx])\n",
    "        idx = optimal_path[idx]\n",
    "    \n",
    "    best_segment.reverse()\n",
    "    return best_segment\n",
    "\n",
    "word_segment_viterbi(\"今天天气好\")"
   ]
  },
  {
   "cell_type": "code",
   "execution_count": 72,
   "metadata": {},
   "outputs": [
    {
     "name": "stdout",
     "output_type": "stream",
     "text": [
      "['北京', '的', '天气', '真好啊']\n",
      "['今天', '的', '课程', '内容', '很有', '意思']\n",
      "['经常', '有意见', '分歧']\n"
     ]
    }
   ],
   "source": [
    "# 测试\n",
    "print (word_segment_naive(\"北京的天气真好啊\"))\n",
    "print (word_segment_naive(\"今天的课程内容很有意思\"))\n",
    "print (word_segment_naive(\"经常有意见分歧\"))"
   ]
  },
  {
   "cell_type": "code",
   "execution_count": null,
   "metadata": {
    "collapsed": true
   },
   "outputs": [],
   "source": [
    "# 分数（3）\n",
    "# TODO: 第一种方法和第二种方法的时间复杂度和空间复杂度分别是多少？\n",
    "第一个方法： \n",
    "时间复杂度= O(m^n), 空间复杂度= O(n)\n",
    "\n",
    "第二个方法：\n",
    "时间复杂度=O(n^2) , 空间复杂度= O(n^2)"
   ]
  },
  {
   "cell_type": "code",
   "execution_count": null,
   "metadata": {
    "collapsed": true
   },
   "outputs": [],
   "source": [
    "# 分数（2）\n",
    "# TODO：如果把上述的分词工具持续优化，有哪些可以考虑的方法？ （至少列出3点）\n",
    "- 0. （例）， 目前的概率是不完整的，可以考虑大量的语料库，然后从中计算出每一个词出现的概率，这样更加真实\n",
    "- 1.\n",
    "- 2.\n",
    "- 3. "
   ]
  },
  {
   "cell_type": "markdown",
   "metadata": {
    "collapsed": true
   },
   "source": []
  },
  {
   "cell_type": "markdown",
   "metadata": {
    "collapsed": true
   },
   "source": [
    "## Part 2:  搭建一个简单的问答系统"
   ]
  },
  {
   "cell_type": "markdown",
   "metadata": {},
   "source": [
    "本次项目的目标是搭建一个基于检索式的简单的问答系统。至于什么是检索式的问答系统请参考课程直播内容/PPT介绍。 \n",
    "\n",
    "通过此项目，你将会有机会掌握以下几个知识点：\n",
    "1. 字符串操作   2. 文本预处理技术（词过滤，标准化）   3. 文本的表示（tf-idf, word2vec)  4. 文本相似度计算  5. 文本高效检索\n",
    "\n",
    "此项目需要的数据：\n",
    "1. dev-v2.0.json: 这个数据包含了问题和答案的pair， 但是以JSON格式存在，需要编写parser来提取出里面的问题和答案。 \n",
    "2. glove.6B: 这个文件需要从网上下载，下载地址为：https://nlp.stanford.edu/projects/glove/， 请使用d=100的词向量\n",
    "\n",
    "##### 检索式的问答系统\n",
    "问答系统所需要的数据已经提供，对于每一个问题都可以找得到相应的答案，所以可以理解为每一个样本数据是 <问题、答案>。 那系统的核心是当用户输入一个问题的时候，首先要找到跟这个问题最相近的已经存储在库里的问题，然后直接返回相应的答案即可。 举一个简单的例子：\n",
    "\n",
    "假设我们的库里面已有存在以下几个<问题,答案>：\n",
    "<\"贪心学院主要做什么方面的业务？”， “他们主要做人工智能方面的教育”>\n",
    "<“国内有哪些做人工智能教育的公司？”， “贪心学院”>\n",
    "<\"人工智能和机器学习的关系什么？\", \"其实机器学习是人工智能的一个范畴，很多人工智能的应用要基于机器学习的技术\">\n",
    "<\"人工智能最核心的语言是什么？\"， ”Python“>\n",
    ".....\n",
    "\n",
    "假设一个用户往系统中输入了问题 “贪心学院是做什么的？”， 那这时候系统先去匹配最相近的“已经存在库里的”问题。 那在这里很显然是 “贪心学院是做什么的”和“贪心学院主要做什么方面的业务？”是最相近的。 所以当我们定位到这个问题之后，直接返回它的答案 “他们主要做人工智能方面的教育”就可以了。 所以这里的核心问题可以归结为计算两个问句（query）之间的相似度。\n",
    "\n",
    "在本次项目中，你会频繁地使用到sklearn这个机器学习库。具体安装请见：http://scikit-learn.org/stable/install.html  sklearn包含了各类机器学习算法和数据处理工具，包括本项目需要使用的词袋模型，均可以在sklearn工具包中找得到。 另外，本项目还需要用到分词工具jieba, 具体使用方法请见 https://github.com/fxsjy/jieba"
   ]
  },
  {
   "cell_type": "markdown",
   "metadata": {},
   "source": [
    "### Part 2.1  第一部分： 读取文件，并把内容分别写到两个list里（一个list对应问题集，另一个list对应答案集）"
   ]
  },
  {
   "cell_type": "code",
   "execution_count": 4,
   "metadata": {},
   "outputs": [
    {
     "name": "stdout",
     "output_type": "stream",
     "text": [
      "问答数量：86821\n",
      "['When did Beyonce start becoming popular?', 'What areas did Beyonce compete in when she was growing up?', \"When did Beyonce leave Destiny's Child and become a solo singer?\"]\n",
      "['in the late 1990s', 'singing and dancing', '2003']\n"
     ]
    }
   ],
   "source": [
    "# 分数（5）\n",
    "import json\n",
    "\n",
    "def read_corpus(file_path):\n",
    "    \"\"\"\n",
    "    读取给定的语料库，并把问题列表和答案列表分别写入到 qlist, alist 里面。 在此过程中，不用对字符换做任何的处理（这部分需要在 Part 2.3里处理）\n",
    "    qlist = [\"问题1\"， “问题2”， “问题3” ....]\n",
    "    alist = [\"答案1\", \"答案2\", \"答案3\" ....]\n",
    "    务必要让每一个问题和答案对应起来（下标位置一致）\n",
    "    \"\"\"\n",
    "    with open(file_path) as fp:\n",
    "        data = json.load(fp)\n",
    "    \n",
    "    qlist = list()\n",
    "    alist = list()\n",
    "    \n",
    "    for item in data['data']:\n",
    "        for para in item['paragraphs']:\n",
    "            for qa in para['qas']:\n",
    "                qlist.append(qa['question'])\n",
    "                \n",
    "                try:\n",
    "                    alist.append(qa['answers'][0]['text'])\n",
    "                    \n",
    "                except IndexError:\n",
    "                    qlist.pop()\n",
    "                \n",
    "    assert len(qlist) == len(alist)  # 确保长度一样\n",
    "    return qlist, alist\n",
    "\n",
    "# 测试\n",
    "qlist, alist = read_corpus('./data/train-v2.0.json')\n",
    "print(\"问答数量：%d\" % len(qlist))\n",
    "print(qlist[:3])\n",
    "print(alist[:3])\n"
   ]
  },
  {
   "cell_type": "markdown",
   "metadata": {},
   "source": [
    "### Part 2.2 理解数据（可视化分析/统计信息）\n",
    "对数据的理解是任何AI工作的第一步，需要充分对手上的数据有个更直观的理解。 "
   ]
  },
  {
   "cell_type": "code",
   "execution_count": 5,
   "metadata": {},
   "outputs": [
    {
     "name": "stdout",
     "output_type": "stream",
     "text": [
      "51841\n",
      "874076\n"
     ]
    }
   ],
   "source": [
    "# 分数（10）\n",
    "# TODO: 统计一下在qlist 总共出现了多少个单词？ 总共出现了多少个不同的单词？\n",
    "#       这里需要做简单的分词，对于英文我们根据空格来分词即可，其他过滤暂不考虑（只需分词）\n",
    "from collections import Counter\n",
    "import matplotlib.pyplot as plt\n",
    "\n",
    "qlist, alist = read_corpus('./data/train-v2.0.json')\n",
    "words_cnt = Counter()\n",
    "\n",
    "\n",
    "for text in qlist:\n",
    "    words_cnt.update(text.strip(' .!?').split(' '))\n",
    "\n",
    "diff_word_total = len(words_cnt.keys())\n",
    "print(diff_word_total)\n",
    "word_total = sum(words_cnt.values())\n",
    "print (word_total)"
   ]
  },
  {
   "cell_type": "code",
   "execution_count": 6,
   "metadata": {},
   "outputs": [
    {
     "name": "stdout",
     "output_type": "stream",
     "text": [
      "词数(type)：51841\n",
      "[['the', 60960], ['What', 36995], ['of', 33987], ['in', 21785], ['to', 18443], ['was', 17065], ['is', 16198], ['did', 15634], ['what', 13219], ['a', 10753], ['How', 8023], ['Who', 8009], ['and', 7229], ['for', 7200], ['many', 5497], ['are', 5455], ['When', 5367], ['that', 4436], ['were', 4428], ['does', 4331]]\n"
     ]
    },
    {
     "data": {
      "image/png": "[encoded data removed]",
      "text/plain": [
       "<Figure size 432x288 with 4 Axes>"
      ]
     },
     "metadata": {
      "needs_background": "light"
     },
     "output_type": "display_data"
    }
   ],
   "source": [
    "# TODO: 统计一下qlist中每个单词出现的频率，并把这些频率排一下序，然后画成plot. 比如总共出现了总共7个不同单词，而且每个单词出现的频率为 4, 5,10,2, 1, 1,1\n",
    "#       把频率排序之后就可以得到(从大到小) 10, 5, 4, 2, 1, 1, 1. 然后把这7个数plot即可（从大到小）\n",
    "#       需要使用matplotlib里的plot函数。y轴是词频\n",
    "\n",
    "value_sort = sorted(words_cnt.values(), reverse = True)\n",
    "plt.subplot(221)\n",
    "plt.plot(value_sort)\n",
    "plt.subplot(222)\n",
    "plt.plot(value_sort[:2000])\n",
    "plt.subplot(223)\n",
    "plt.plot(value_sort[:200])\n",
    "plt.subplot(224)\n",
    "plt.plot(value_sort[:20])\n",
    "\n",
    "inverse = dict(zip(words_cnt.values(), words_cnt.keys()))\n",
    "print(\"词数(type)：%d\" % len(words_cnt))\n",
    "print([[inverse[v], v] for v in value_sort[:20]])"
   ]
  },
  {
   "cell_type": "code",
   "execution_count": null,
   "metadata": {
    "collapsed": true
   },
   "outputs": [],
   "source": [
    "# TODO： 从上面的图中能观察到什么样的现象？ 这样的一个图的形状跟一个非常著名的函数形状很类似，能所出此定理吗？ \n",
    "#       hint: [XXX]'s law\n",
    "# \n",
    "# "
   ]
  },
  {
   "cell_type": "code",
   "execution_count": null,
   "metadata": {
    "collapsed": true
   },
   "outputs": [],
   "source": [
    "# TODO: 在qlist和alist里出现次数最多的TOP 10单词分别是什么？ \n",
    "# answer:\n",
    "# the, What, of, in, to, was, is, did, what, a \n",
    "# 虚词出现频率很高，应该采用停用词了"
   ]
  },
  {
   "cell_type": "markdown",
   "metadata": {},
   "source": [
    "### 2.3 文本预处理\n",
    "次部分需要尝试做文本的处理。在这里我们面对的是英文文本，所以任何对英文适合的技术都可以考虑进来。"
   ]
  },
  {
   "cell_type": "code",
   "execution_count": 7,
   "metadata": {},
   "outputs": [],
   "source": [
    "# 分数（10）\n",
    "\n",
    "# TODO: 对于qlist, alist做文本预处理操作。 可以考虑以下几种操作：\n",
    "#       1. 停用词过滤 （去网上搜一下 \"english stop words list\"，会出现很多包含停用词库的网页，或者直接使用NLTK自带的）   \n",
    "#       2. 转换成lower_case： 这是一个基本的操作   \n",
    "#       3. 去掉一些无用的符号： 比如连续的感叹号！！！， 或者一些奇怪的单词。\n",
    "#       4. 去掉出现频率很低的词：比如出现次数少于10,20....\n",
    "#       5. 对于数字的处理： 分词完只有有些单词可能就是数字比如44，415，把所有这些数字都看成是一个单词，这个新的单词我们可以定义为 \"#number\"\n",
    "#       6. stemming（利用porter stemming): 因为是英文，所以stemming也是可以做的工作\n",
    "#       7. 其他（如果有的话）\n",
    "#       请注意，不一定要按照上面的顺序来处理，具体处理的顺序思考一下，然后选择一个合理的顺序\n",
    "#  hint: 停用词用什么数据结构来存储？ 不一样的数据结构会带来完全不一样的效率！ \n",
    "from nltk.corpus import stopwords\n",
    "from nltk.stem import PorterStemmer\n",
    "from nltk.tokenize import word_tokenize\n",
    "import math\n",
    "\n",
    "# 加载nltk自带停用词，该停用词表个人感觉一般，具体到细分领域可能还是需要自己归纳\n",
    "sw = set(stopwords.words('english'))\n",
    "# 个人感觉对于一个问题而言这些词不应该删去\n",
    "sw -= {'who', 'when', 'why', 'where', 'how', 'which'}\n",
    "# 这里只是随便去了下符号\n",
    "sw.update(['\\'s', '``', '\\'\\''])\n",
    "ps = PorterStemmer()\n",
    "\n",
    "def text_preprocessing(text):\n",
    "    \n",
    "    seg = list()\n",
    "    # 直接使用nltk分词\n",
    "    for word in word_tokenize(text):\n",
    "        # 小写化、词干提取\n",
    "        word = ps.stem(word.lower())\n",
    "        # 数值归一\n",
    "        word = '#number' if word.isdigit() else word\n",
    "        if len(word)>1 and word not in sw:\n",
    "            seg.append(word)\n",
    "    \n",
    "    return seg\n",
    "\n",
    "words_cnt = Counter()\n",
    "qlist_seg = list()\n",
    "for text in qlist:\n",
    "    seg = text_preprocessing(text)\n",
    "    qlist_seg.append(seg)\n",
    "    words_cnt.update(seg)\n",
    "\n",
    "\n",
    "value_sort = sorted(words_cnt.values(), reverse=True)\n",
    "# 根据Zipf定律计算99%覆盖率下的过滤词频，解释见程序下边\n",
    "min_tf = value_sort[int(math.exp(0.99 * math.log(len(words_cnt))))]\n",
    "\n",
    "#对于每个句子，去掉一些低频词语\n",
    "for cur in range(len(qlist_seg)):\n",
    "    qlist_seg[cur] = [word for word in qlist_seg[cur] if words_cnt[word] > min_tf]\n",
    "\n",
    "\n",
    "# qlist, alist =    # 更新后的"
   ]
  },
  {
   "cell_type": "code",
   "execution_count": null,
   "metadata": {
    "collapsed": true
   },
   "outputs": [],
   "source": [
    "# TODO: 在前面步骤里，我们删除了出现次数比较少的单词，那你选择的阈值是多少（小于多少的去掉？）， 这个阈值是根据什么来选择的？ \n",
    "# "
   ]
  },
  {
   "cell_type": "markdown",
   "metadata": {},
   "source": [
    "### 2.4 文本表示\n",
    "当我们做完关键的预处理过程之后，就需要把每一个文本转换成向量。"
   ]
  },
  {
   "cell_type": "code",
   "execution_count": 8,
   "metadata": {},
   "outputs": [],
   "source": [
    "# 分数（10）\n",
    "\n",
    "# TODO: 把qlist中的每一个问题字符串转换成tf-idf向量, 转换之后的结果存储在X矩阵里。 X的大小是： N* D的矩阵。 这里N是问题的个数（样本个数），\n",
    "#       D是字典库的大小。 \n",
    "from sklearn.feature_extraction.text import TfidfVectorizer\n",
    "\n",
    "vectorizer =  TfidfVectorizer()  # 定义一个tf-idf的vectorizer\n",
    "\n",
    "X = vectorizer.fit_transform([' '.join(seg) for seg in qlist_seg])  # 结果存放在X矩阵"
   ]
  },
  {
   "cell_type": "code",
   "execution_count": 9,
   "metadata": {},
   "outputs": [
    {
     "name": "stdout",
     "output_type": "stream",
     "text": [
      "(86821, 14549)\n",
      "519542\n",
      "-519541.0\n",
      "input sparsity ratio: 0.9995886961883157\n"
     ]
    }
   ],
   "source": [
    "# TODO: 矩阵X有什么特点？ 计算一下它的稀疏度\n",
    "def sparsity_ratio(X):\n",
    "    print(X.nnz)\n",
    "    print(1.0 - X.nnz)\n",
    "    return 1.0 - X.nnz / float(X.shape[0] * X.shape[1])\n",
    "\n",
    "print(X.shape)\n",
    "print(\"input sparsity ratio:\", sparsity_ratio(X))  # 打印出稀疏度(sparsity)\n",
    "\n",
    "# print (sparsity)  # 打印出稀疏度(sparsity)"
   ]
  },
  {
   "cell_type": "markdown",
   "metadata": {},
   "source": [
    "### 2.5 对于用户的输入问题，找到相似度最高的TOP5问题，并把5个潜在的答案做返回"
   ]
  },
  {
   "cell_type": "code",
   "execution_count": 10,
   "metadata": {},
   "outputs": [
    {
     "name": "stdout",
     "output_type": "stream",
     "text": [
      "['Chengdu Shuangliu International Airport', 'Chengdu Shuangliu International Airport', 'aerodrome with facilities for flights to take off and land', 'newspapers', 'various gaming sites']\n"
     ]
    }
   ],
   "source": [
    "# 分数（10）\n",
    "from queue import PriorityQueue\n",
    "\n",
    "def top5results(input_q):\n",
    "    \"\"\"\n",
    "    给定用户输入的问题 input_q, 返回最有可能的TOP 5问题。这里面需要做到以下几点：\n",
    "    1. 对于用户的输入 input_q 首先做一系列的预处理，然后再转换成tf-idf向量（利用上面的vectorizer)\n",
    "    2. 计算跟每个库里的问题之间的相似度\n",
    "    3. 找出相似度最高的top5问题的答案\n",
    "    \"\"\"\n",
    "    q_vector = vectorizer.transform([' '.join(text_preprocessing(input_q))])\n",
    "    # 计算余弦相似度，tfidf默认使用l2范数；矩阵乘法\n",
    "    sim = (X * q_vector.T).toarray()\n",
    "    # 使用优先队列找出top5, 最先出来的是相似度小的\n",
    "    pq = PriorityQueue()\n",
    "    for cur in range(sim.shape[0]):\n",
    "        pq.put((sim[cur][0], cur))\n",
    "#         print(pq.queue)\n",
    "        if len(pq.queue) > 5:\n",
    "            pq.get()\n",
    "\n",
    "    pq_rank = sorted(pq.queue, reverse=True, key=lambda x:x[0])\n",
    "    top_idxs = [x[1] for x in pq_rank]  # top_idxs存放相似度最高的（存在qlist里的）问题的下表 \n",
    "                                        # hint: 利用priority queue来找出top results. 思考为什么可以这么做？ \n",
    "\n",
    "    return [alist[i] for i in top_idxs]  # 返回相似度最高的问题对应的答案，作为TOP5答案    \n",
    "\n",
    "print(top5results(\"Which airport was shut down?\"))"
   ]
  },
  {
   "cell_type": "code",
   "execution_count": 11,
   "metadata": {},
   "outputs": [
    {
     "name": "stdout",
     "output_type": "stream",
     "text": [
      "['Chengdu Shuangliu International Airport', 'Chengdu Shuangliu International Airport', 'aerodrome with facilities for flights to take off and land', 'newspapers', 'various gaming sites']\n",
      "['Plymouth City Airport', 'aerodrome with facilities for flights to take off and land', 'related', 'After the reunification', 'Nanjing Dajiaochang Airport']\n",
      "['Myanmar', 'foreign aid', '10 days', 'the British government', 'The latent heat of water condensation amplifies convection']\n",
      "['Myanmar', 'Isabel', 'foreign aid', 'Soviet Union and China', '10 days']\n"
     ]
    }
   ],
   "source": [
    "# TODO: 编写几个测试用例，并输出结果\n",
    "print(top5results(\"Which airport was shut down?\"))    # 在问题库中存在，经过对比，返回的首结果正确\n",
    "print(top5results(\"Which airport is closed?\"))\n",
    "print(top5results(\"What government blocked aid after Cyclone Nargis?\"))\n",
    "print(top5results(\"Which government stopped aid after Hurricane Nargis?\"))"
   ]
  },
  {
   "cell_type": "code",
   "execution_count": null,
   "metadata": {
    "collapsed": true
   },
   "outputs": [],
   "source": [
    "# 分数（5）\n",
    "\n",
    "# TODO: 上面的top5results算法的时间复杂度和空间复杂度分别是多少？\n",
    "\n",
    "时间复杂度 = O()， 空间复杂度 = O()"
   ]
  },
  {
   "cell_type": "markdown",
   "metadata": {},
   "source": [
    "### 2.6 利用倒排表的优化。 \n",
    "上面的算法，一个最大的缺点是每一个用户问题都需要跟库里的所有的问题都计算相似度。假设我们库里的问题非常多，这将是效率非常低的方法。 这里面一个方案是通过倒排表的方式，先从库里面找到跟当前的输入类似的问题描述。然后针对于这些candidates问题再做余弦相似度的计算。这样会节省大量的时间。"
   ]
  },
  {
   "cell_type": "code",
   "execution_count": 12,
   "metadata": {},
   "outputs": [
    {
     "name": "stdout",
     "output_type": "stream",
     "text": [
      "which airport wa shut\n",
      "[0.9999999999999999, 0.9999999999999999, 0.5776946944676989, 0.5679494826559852, 0.5344386147318491]\n",
      "['Chengdu Shuangliu International Airport', 'Chengdu Shuangliu International Airport', 'aerodrome with facilities for flights to take off and land', 'newspapers', 'various gaming sites']\n"
     ]
    }
   ],
   "source": [
    "# 分数（10）\n",
    "\n",
    "# TODO: 基于倒排表的优化。在这里，我们可以定义一个类似于hash_map, 比如 inverted_index = {}， 然后存放包含每一个关键词的文档出现在了什么位置，\n",
    "#       也就是，通过关键词的搜索首先来判断包含这些关键词的文档（比如出现至少一个），然后对于candidates问题做相似度比较。\n",
    "# \n",
    "\n",
    "from collections import defaultdict\n",
    "\n",
    "inverted_idx = defaultdict(set)  # 制定一个一个简单的倒排表\n",
    "for cur in range(len(qlist_seg)):\n",
    "    for word in qlist_seg[cur]:\n",
    "        inverted_idx[word].add(cur)\n",
    "#         if cur < 5:\n",
    "#             print(inverted_idx)  # 看一下倒排表的效果\n",
    "\n",
    "def top5results_invidx(input_q):\n",
    "    \"\"\"\n",
    "    给定用户输入的问题 input_q, 返回最有可能的TOP 5问题。这里面需要做到以下几点：\n",
    "    1. 利用倒排表来筛选 candidate\n",
    "    2. 对于用户的输入 input_q 首先做一系列的预处理，然后再转换成tf-idf向量（利用上面的vectorizer)\n",
    "    3. 计算跟每个库里的问题之间的相似度\n",
    "    4. 找出相似度最高的top5问题的答案\n",
    "    \"\"\"\n",
    "    seg = text_preprocessing(input_q)\n",
    "    candidates = set()\n",
    "    for word in seg:\n",
    "        # 取所有包含任意一个词的文档的并集\n",
    "        candidates = candidates | inverted_idx[word]\n",
    "    candidates = list(candidates)\n",
    "\n",
    "    print(' '.join(seg))\n",
    "    q_vector = vectorizer.transform([' '.join(seg)])\n",
    "    # 计算余弦相似度，tfidf用的l2范数，所以分母为1；矩阵乘法\n",
    "    sim = (X[candidates] * q_vector.T).toarray()\n",
    "\n",
    "    # 使用优先队列找出top5\n",
    "    pq = PriorityQueue()\n",
    "    for cur in range(sim.shape[0]):\n",
    "        pq.put((sim[cur][0], candidates[cur]))\n",
    "        if len(pq.queue) > 5:\n",
    "            pq.get()\n",
    "    \n",
    "    pq_rank = sorted(pq.queue, reverse=True, key=lambda x:x[0])\n",
    "    print([x[0] for x in pq_rank])\n",
    "    top_idxs = [x[1] for x in pq_rank]  # top_idxs存放相似度最高的（存在qlist里的）问题的下表 \n",
    "    \n",
    "    return [alist[i] for i in top_idxs]  # 返回相似度最高的问题对应的答案，作为TOP5答案\n",
    "\n",
    "print(top5results_invidx(\"Which airport was shut down?\")) "
   ]
  },
  {
   "cell_type": "code",
   "execution_count": 13,
   "metadata": {},
   "outputs": [
    {
     "name": "stdout",
     "output_type": "stream",
     "text": [
      "['Chengdu Shuangliu International Airport', 'Chengdu Shuangliu International Airport', 'aerodrome with facilities for flights to take off and land', 'newspapers', 'various gaming sites']\n",
      "['Plymouth City Airport', 'aerodrome with facilities for flights to take off and land', 'related', 'After the reunification', 'Nanjing Dajiaochang Airport']\n",
      "['Myanmar', 'foreign aid', '10 days', 'the British government', 'The latent heat of water condensation amplifies convection']\n",
      "['Myanmar', 'Isabel', 'foreign aid', 'Soviet Union and China', '10 days']\n"
     ]
    }
   ],
   "source": [
    "# TODO: 编写几个测试用例，并输出结果\n",
    "print(top5results(\"Which airport was shut down?\"))    # 在问题库中存在，经过对比，返回的首结果正确\n",
    "print(top5results(\"Which airport is closed?\"))\n",
    "print(top5results(\"What government blocked aid after Cyclone Nargis?\"))\n",
    "print(top5results(\"Which government stopped aid after Hurricane Nargis?\"))"
   ]
  },
  {
   "cell_type": "code",
   "execution_count": null,
   "metadata": {
    "collapsed": true
   },
   "outputs": [],
   "source": [
    "# 分数（3）\n",
    "\n",
    "# TODO: 上面的top5results算法的时间复杂度和空间复杂度分别是多少？\n",
    "\n",
    "时间复杂度 = O()， 空间复杂度 = O()"
   ]
  },
  {
   "cell_type": "markdown",
   "metadata": {},
   "source": [
    "### 2.7 基于词向量的文本表示\n",
    "上面所用到的方法论是基于词袋模型（bag-of-words model）。这样的方法论有两个主要的问题：1. 无法计算词语之间的相似度  2. 稀疏度很高。 在2.7里面我们\n",
    "讲采用词向量作为文本的表示。词向量方面需要下载： https://nlp.stanford.edu/projects/glove/ （请下载glove.6B.zip），并使用d=100的词向量（100维）。\n"
   ]
  },
  {
   "cell_type": "code",
   "execution_count": 18,
   "metadata": {},
   "outputs": [
    {
     "name": "stderr",
     "output_type": "stream",
     "text": [
      "C:\\Users\\lynn\\AppData\\Roaming\\Python\\Python37\\site-packages\\ipykernel_launcher.py:25: DeprecationWarning: Call to deprecated `wv` (Attribute will be removed in 4.0.0, use self instead).\n",
      "C:\\Users\\lynn\\AppData\\Roaming\\Python\\Python37\\site-packages\\ipykernel_launcher.py:29: RuntimeWarning: invalid value encountered in true_divide\n"
     ]
    },
    {
     "name": "stdout",
     "output_type": "stream",
     "text": [
      "['which', 'airport', 'wa', 'shut']\n"
     ]
    },
    {
     "ename": "ValueError",
     "evalue": "operands could not be broadcast together with shapes (22338,100) (100,1) ",
     "output_type": "error",
     "traceback": [
      "\u001b[1;31m---------------------------------------------------------------------------\u001b[0m",
      "\u001b[1;31mValueError\u001b[0m                                Traceback (most recent call last)",
      "\u001b[1;32m<ipython-input-18-41b56c777228>\u001b[0m in \u001b[0;36m<module>\u001b[1;34m\u001b[0m\n\u001b[0;32m     75\u001b[0m     \u001b[1;32mreturn\u001b[0m \u001b[1;33m[\u001b[0m\u001b[0mqlist\u001b[0m\u001b[1;33m[\u001b[0m\u001b[0mi\u001b[0m\u001b[1;33m]\u001b[0m \u001b[1;32mfor\u001b[0m \u001b[0mi\u001b[0m \u001b[1;32min\u001b[0m \u001b[0mtop_idxs\u001b[0m\u001b[1;33m]\u001b[0m  \u001b[1;31m# 返回相似度最高的问题对应的答案，作为TOP5答案\u001b[0m\u001b[1;33m\u001b[0m\u001b[1;33m\u001b[0m\u001b[0m\n\u001b[0;32m     76\u001b[0m \u001b[1;33m\u001b[0m\u001b[0m\n\u001b[1;32m---> 77\u001b[1;33m \u001b[0mprint\u001b[0m\u001b[1;33m(\u001b[0m\u001b[0mtop5results_emb\u001b[0m\u001b[1;33m(\u001b[0m\u001b[1;34m\"Which airport was shut down?\"\u001b[0m\u001b[1;33m)\u001b[0m\u001b[1;33m)\u001b[0m\u001b[1;33m\u001b[0m\u001b[1;33m\u001b[0m\u001b[0m\n\u001b[0m",
      "\u001b[1;32m<ipython-input-18-41b56c777228>\u001b[0m in \u001b[0;36mtop5results_emb\u001b[1;34m(input_q)\u001b[0m\n\u001b[0;32m     60\u001b[0m     \u001b[0mq_vector\u001b[0m \u001b[1;33m=\u001b[0m \u001b[0mq_vector\u001b[0m \u001b[1;33m/\u001b[0m \u001b[0mqnorm2\u001b[0m\u001b[1;33m\u001b[0m\u001b[1;33m\u001b[0m\u001b[0m\n\u001b[0;32m     61\u001b[0m     \u001b[1;31m# 计算余弦相似度，前边已经l2规范化过，所以直接相乘\u001b[0m\u001b[1;33m\u001b[0m\u001b[1;33m\u001b[0m\u001b[1;33m\u001b[0m\u001b[0m\n\u001b[1;32m---> 62\u001b[1;33m     \u001b[0msim\u001b[0m \u001b[1;33m=\u001b[0m \u001b[1;33m(\u001b[0m\u001b[0mX\u001b[0m\u001b[1;33m[\u001b[0m\u001b[0mcandidates\u001b[0m\u001b[1;33m]\u001b[0m \u001b[1;33m*\u001b[0m \u001b[0mq_vector\u001b[0m\u001b[1;33m.\u001b[0m\u001b[0mT\u001b[0m\u001b[1;33m)\u001b[0m\u001b[1;33m\u001b[0m\u001b[1;33m\u001b[0m\u001b[0m\n\u001b[0m\u001b[0;32m     63\u001b[0m \u001b[1;33m\u001b[0m\u001b[0m\n\u001b[0;32m     64\u001b[0m     \u001b[1;31m# 使用优先队列找出top5\u001b[0m\u001b[1;33m\u001b[0m\u001b[1;33m\u001b[0m\u001b[1;33m\u001b[0m\u001b[0m\n",
      "\u001b[1;31mValueError\u001b[0m: operands could not be broadcast together with shapes (22338,100) (100,1) "
     ]
    }
   ],
   "source": [
    "# 分数（10）\n",
    "\n",
    "# TODO\n",
    "# 读取每一个单词的嵌入。这个是 D*H的矩阵，这里的D是词典库的大小， H是词向量的大小。 这里面我们给定的每个单词的词向量，那句子向量怎么表达？\n",
    "# 其中，最简单的方式 句子向量 = 词向量的平均（出现在问句里的）， 如果给定的词没有出现在词典库里，则忽略掉这个词。\n",
    "from gensim.models import KeyedVectors\n",
    "from gensim.scripts.glove2word2vec import glove2word2vec\n",
    "import numpy as np\n",
    "\n",
    "# 将GloVe转为word2vec\n",
    "_ = glove2word2vec('./data/glove.6B.100d.txt', './data/glove2word2vec.6B.100d.txt')\n",
    "model = KeyedVectors.load_word2vec_format('./data/glove2word2vec.6B.100d.txt')\n",
    "\n",
    "def docvec_get(seg):\n",
    "    \"\"\"\n",
    "    将分词数据转为句向量。\n",
    "    seg: 分词后的数据\n",
    "    \n",
    "    return: 句向量\n",
    "    \"\"\"\n",
    "    vector = np.zeros((1, 100))\n",
    "    size = len(seg)\n",
    "    for word in seg:\n",
    "        try:\n",
    "            vector += model.wv[word]\n",
    "        except KeyError:\n",
    "            size -= 1\n",
    "    \n",
    "    return vector / size\n",
    "\n",
    "X = np.zeros((len(qlist_seg), 100))\n",
    "for cur in range(X.shape[0]):\n",
    "    X[cur] = docvec_get(qlist_seg[cur])\n",
    "\n",
    "# 计算X每一行的l2范数\n",
    "Xnorm2 = np.linalg.norm(X, axis=1, keepdims=True)\n",
    "X = X / Xnorm2\n",
    "\n",
    "def top5results_emb(input_q):\n",
    "    \"\"\"\n",
    "    给定用户输入的问题 input_q, 返回最有可能的TOP 5问题。这里面需要做到以下几点：\n",
    "    1. 利用倒排表来筛选 candidate\n",
    "    2. 对于用户的输入 input_q，转换成句子向量\n",
    "    3. 计算跟每个库里的问题之间的相似度\n",
    "    4. 找出相似度最高的top5问题的答案\n",
    "    \"\"\"\n",
    "    # 用词向量后用词形还原更合理，此处就不做变更了\n",
    "    seg = text_preprocessing(input_q)\n",
    "    print(seg)\n",
    "    # 直接用上边建好的倒排表\n",
    "    candidates = set()\n",
    "    for word in seg:\n",
    "        # 取所有包含任意一个词的文档的并集\n",
    "        candidates = candidates | inverted_idx[word]\n",
    "    candidates = list(candidates)\n",
    "    \n",
    "    q_vector = docvec_get(seg)\n",
    "    # 计算问题向量的l2范数\n",
    "    qnorm2 = np.linalg.norm(q_vector, axis=1, keepdims=True)\n",
    "    q_vector = q_vector / qnorm2\n",
    "    # 计算余弦相似度，前边已经l2规范化过，所以直接相乘\n",
    "    sim = (X[candidates] 8 q_vector.T)\n",
    "\n",
    "    # 使用优先队列找出top5\n",
    "    pq = PriorityQueue()\n",
    "    for cur in range(sim.shape[0]):\n",
    "        pq.put((sim[cur][0], candidates[cur]))\n",
    "        if len(pq.queue) > 5:\n",
    "            pq.get()\n",
    "    \n",
    "    pq_rank = sorted(pq.queue, reverse=True, key=lambda x:x[0])\n",
    "    print([x[0] for x in pq_rank])\n",
    "    top_idxs = [x[1] for x in pq_rank]  # top_idxs存放相似度最高的（存在qlist里的）问题的下表 \n",
    "    \n",
    "    return [qlist[i] for i in top_idxs]  # 返回相似度最高的问题对应的答案，作为TOP5答案\n",
    "\n",
    "print(top5results_emb(\"Which airport was shut down?\"))"
   ]
  },
  {
   "cell_type": "code",
   "execution_count": 15,
   "metadata": {},
   "outputs": [
    {
     "name": "stdout",
     "output_type": "stream",
     "text": [
      "[0.9999999999999998, 0.9999999999999998, 0.9016501294909376, 0.8976957132307104, 0.8873179784188742]\n",
      "['Chengdu Shuangliu International Airport', 'Chengdu Shuangliu International Airport', '1970', '1942', 'Glounthaune to Midleton']\n",
      "[0.9339779158417116, 0.9204947347734492, 0.9162888297715948, 0.9137628724971313, 0.9137628724971313]\n",
      "['Plymouth City Airport', 'landside and airside', 'commercial with long routes', 'within the departure areas', 'India']\n",
      "[1.0, 0.852360897734157, 0.8518187365307015, 0.8508247887568897, 0.8409244964740952]\n",
      "['Myanmar', 'most Protestants (and most Jews)', 'lower house of parliament', 'the Tzu Chi Foundation', 'started an anti-separatist campaign']\n",
      "[0.9119676230277638, 0.8760257535237964, 0.8717640070522787, 0.8683910816857661, 0.8682694135547193]\n",
      "['Myanmar', 'started an anti-separatist campaign', 'Ronald Reagan', 'most Protestants (and most Jews)', 'assessments']\n"
     ]
    },
    {
     "name": "stderr",
     "output_type": "stream",
     "text": [
      "C:\\Users\\lynn\\AppData\\Roaming\\Python\\Python37\\site-packages\\ipykernel_launcher.py:25: DeprecationWarning: Call to deprecated `wv` (Attribute will be removed in 4.0.0, use self instead).\n"
     ]
    }
   ],
   "source": [
    "# TODO: 编写几个测试用例，并输出结果\n",
    "print(top5results_emb(\"Which airport was shut down?\"))    # 在问题库中存在，经过对比，返回的首结果正确\n",
    "print(top5results_emb(\"Which airport is closed?\"))\n",
    "print(top5results_emb(\"What government blocked aid after Cyclone Nargis?\"))    # 在问题库中存在，经过对比，返回的首结果正确\n",
    "print(top5results_emb(\"Which government stopped aid after Hurricane Nargis?\"))\n",
    "# 我们在验收作业时在后台会建立几个测试用例，来验证返回的准确性。"
   ]
  },
  {
   "cell_type": "markdown",
   "metadata": {
    "collapsed": true
   },
   "source": [
    "### 2.8 做完本次项目做完之后有什么收获？ \n",
    "\n",
    "#分数（2）\n",
    "\n",
    "回答 = “”"
   ]
  },
  {
   "cell_type": "code",
   "execution_count": null,
   "metadata": {
    "collapsed": true
   },
   "outputs": [],
   "source": []
  }
 ],
 "metadata": {
  "kernelspec": {
   "display_name": "ten-gpu1.14",
   "language": "python",
   "name": "ten-gpu1.14"
  },
  "language_info": {
   "codemirror_mode": {
    "name": "ipython",
    "version": 3
   },
   "file_extension": ".py",
   "mimetype": "text/x-python",
   "name": "python",
   "nbconvert_exporter": "python",
   "pygments_lexer": "ipython3",
   "version": "3.7.6"
  }
 },
 "nbformat": 4,
 "nbformat_minor": 2
}
